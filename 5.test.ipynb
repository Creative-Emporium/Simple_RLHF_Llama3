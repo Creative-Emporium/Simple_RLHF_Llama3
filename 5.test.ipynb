{
 "cells": [
  {
   "cell_type": "code",
   "execution_count": 1,
   "id": "11abe3e8",
   "metadata": {},
   "outputs": [
    {
     "name": "stderr",
     "output_type": "stream",
     "text": [
      "Special tokens have been added in the vocabulary, make sure the associated word embeddings are fine-tuned or trained.\n"
     ]
    },
    {
     "data": {
      "text/plain": [
       "(tensor([128002, 128002, 128000,   5269,    527,    499]),\n",
       " tensor([0, 0, 1, 1, 1, 1]),\n",
       " '<|reserved_special_token_0|><|reserved_special_token_0|><|begin_of_text|>how are you')"
      ]
     },
     "execution_count": 1,
     "metadata": {},
     "output_type": "execute_result"
    }
   ],
   "source": [
    "import torch\n",
    "import random\n",
    "import math\n",
    "\n",
    "from util import TokenizerUtil\n",
    "\n",
    "tokenizer = TokenizerUtil()\n",
    "\n",
    "input_ids, _ = tokenizer.encode('how are you', max_length=6)\n",
    "\n",
    "input_ids, attention_mask = tokenizer.pad_to_left(input_ids)\n",
    "\n",
    "input_ids, attention_mask, tokenizer.decode(input_ids)"
   ]
  },
  {
   "cell_type": "code",
   "execution_count": 2,
   "id": "780596d8",
   "metadata": {},
   "outputs": [
    {
     "data": {
      "text/plain": [
       "(16,\n",
       " {'prompt': 'Human: context= CREATE TABLE table_name_49 (redline__rpm_ INTEGER, engine_code VARCHAR, year VARCHAR) question= What is the average Redline RPM of engines with engine code M57TUD30, made after 2002? Assistant:',\n",
       "  'chosen': 'SELECT AVG(redline__rpm_) FROM table_name_49 WHERE engine_code = \"m57tud30\" AND year > 2002',\n",
       "  'rejected': '',\n",
       "  'response': 'SELECT AVG(redline__rpm_) FROM table_name_49 WHERE engine_code = \"m57tud30\" AND year > 2002'})"
      ]
     },
     "execution_count": 2,
     "metadata": {},
     "output_type": "execute_result"
    }
   ],
   "source": [
    "import json\n",
    "\n",
    "with open('dataset/eval.json') as f:\n",
    "    lines = f.readlines()\n",
    "\n",
    "lines = random.sample(lines, k=16)\n",
    "lines = [json.loads(i) for i in lines]\n",
    "\n",
    "len(lines), lines[0]"
   ]
  },
  {
   "cell_type": "code",
   "execution_count": 3,
   "id": "ad8bfaf5",
   "metadata": {},
   "outputs": [],
   "source": [
    "%run 1.model.ipynb\n",
    "\n",
    "model_actor = torch.load('model/rlhf').to('cuda')"
   ]
  },
  {
   "cell_type": "code",
   "execution_count": 4,
   "id": "2ceb369d",
   "metadata": {},
   "outputs": [
    {
     "name": "stdout",
     "output_type": "stream",
     "text": [
      "select avg(INTROPHY__WITH_) from TABLE_NAME_49 where ENGINE_CODE = \"COLD COLEETHEATI\" and YEAR > 30<|end_of_text|>\n",
      "SELECT AVG(redline__rpm_) FROM table_name_49 WHERE engine_code = \"m57tud30\" AND year > 2002\n",
      "===============\n",
      "select sum(REBOUNDS) from TABLE_NAME_21 where NAME = \"CORK & MIRI\" and RANK > 8<|end_of_text|>\n",
      "SELECT SUM(rebounds) FROM table_name_21 WHERE name = \"fedor likholitov\" AND rank > 8\n",
      "===============\n",
      "select avg(ELECTION) from TABLE_NAME_30 where MUNICIPALITY = \"MILLIPPER\"<|end_of_text|>\n",
      "SELECT AVG(election) FROM table_name_30 WHERE municipality = \"monza\"\n",
      "===============\n",
      "select FILM_TITLE_USED_IN_NOMINATION from TABLE_NAME_18 where COUNTRY = \"SWITZILIPPINES\"<|end_of_text|>\n",
      "SELECT film_title_used_in_nomination FROM table_name_18 WHERE country = \"netherlands\"\n",
      "===============\n",
      "select SEASON from TABLE_24575253_4 where DIVISION_THREE = \"dUNA eAST sT\"<|end_of_text|>\n",
      "SELECT season FROM table_24575253_4 WHERE division_four = \"Wallington New Foresters\"\n",
      "===============\n",
      "select MARGIN_OF_VICTORY from TABLE_NAME_34 where RUNNER_S__UP = \"GREG NORMAN\"<|end_of_text|>\n",
      "SELECT margin_of_victory FROM table_name_34 WHERE runner_s__up = \"rhys davies\"\n",
      "===============\n",
      "select PARTY from TABLE_NAME_8 where FIRST_ELECTED = 1990<|end_of_text|>\n",
      "SELECT party FROM table_name_8 WHERE first_elected = 1990\n",
      "===============\n",
      "select count(PICK) from TABLE_NAME_62 where PBA_TEAM = \"DALLAS CITY ROVERS\"<|end_of_text|>\n",
      "SELECT COUNT(pick) FROM table_name_62 WHERE pba_team = \"purefoods tender juicy hotdogs\"\n",
      "===============\n",
      "select max(WINS) from TABLE_18703133_1 where TEAM = \"cHAMPS mOTOR\"<|end_of_text|>\n",
      "SELECT MAX(wins) FROM table_18703133_1 WHERE team = \"Sport Colombia\"\n",
      "===============\n",
      "select max MINTAGE_WINS) from TABLE_NAME_93 where ARTIST = \"DAKETH ALLEN\" and YEAR < 2002<|end_of_text|>\n",
      "SELECT MIN(mintage) FROM table_name_93 WHERE artist = \"dora de pédery-hunt\" AND year < 2002\n",
      "===============\n",
      "select DATE from TABLE_NAME_52 where GAME_SITE = \"THE ANGRIZONA STADIUM\"<|end_of_text|>\n",
      "SELECT date FROM table_name_52 WHERE game_site = \"schaeffer stadium\"\n",
      "===============\n",
      "select distinct t1.PRODUCT from STAFF as t1 join PRODUCT as t2 on t1.PRODUCT_ID = t2.PRODUCT_ID join STAFF_DEPARTMENT_ASSIGNMENTS as t3 on t2.PRODUCT_ID = t3.PRODUCT_ID where t3.CHIPANT_NAME = \"cHINA\"<|end_of_text|>\n",
      "SELECT t1.product FROM product AS t1 JOIN store_product AS t2 ON t1.product_id = t2.product_id JOIN store AS t3 ON t2.store_id = t3.store_id WHERE t3.store_name = \"Miramichi\"\n",
      "===============\n",
      "select min(FIRST_GAME) from TABLE_NAME_60 where PLAYED = 11 and LOST = 12<|end_of_text|>\n",
      "SELECT MIN(first_game) FROM table_name_60 WHERE played > 11 AND lost = 12\n",
      "===============\n",
      "select min(ATTENDANCE) from TABLE_NAME_82 where RESULT = \"L 42-35\" and WEEK < 13<|end_of_text|>\n",
      "SELECT MIN(attendance) FROM table_name_82 WHERE result = \"l 42-35\" AND week < 13\n",
      "===============\n",
      "select SCORE from TABLE_NAME_65 where COMPETITION = \"VROLET BURNE\" and VEN_SCORER = \"NOVEMBER 14, 1954\" and VERSHIP = \"NOOKLY 14, 1954\"<|end_of_text|>\n",
      "SELECT score FROM table_name_65 WHERE competition = \"world cup qualifying\" AND brazil_scorers = \"baltazar\" AND date = \"march 14, 1954\"\n",
      "===============\n",
      "select max(GOALS_SCORED) from TABLE_NAME_79 where POINTS > 26 and WINS > 11<|end_of_text|>\n",
      "SELECT SUM(goals_scored) FROM table_name_79 WHERE points > 26 AND wins > 11\n",
      "===============\n"
     ]
    }
   ],
   "source": [
    "from util import get_generate\n",
    "\n",
    "for data in lines:\n",
    "    input_ids, _ = tokenizer.encode(data['prompt'], max_length=128)\n",
    "    input_ids, attention_mask = tokenizer.pad_to_left(input_ids)\n",
    "\n",
    "    input_ids = input_ids.unsqueeze(0).to('cuda')\n",
    "    attention_mask = attention_mask.unsqueeze(0).to('cuda')\n",
    "\n",
    "    generate = get_generate(model_actor,\n",
    "                            input_ids,\n",
    "                            tokenizer.eos_token_id,\n",
    "                            tokenizer.pad_token_id,\n",
    "                            max_length=256)\n",
    "\n",
    "    generate = generate[0, 128:].to('cpu')\n",
    "\n",
    "    print(tokenizer.decode(generate))\n",
    "    print(data['chosen'])\n",
    "    print('===============')"
   ]
  }
 ],
 "metadata": {
  "kernelspec": {
   "display_name": "Python [conda env:cuda117]",
   "language": "python",
   "name": "conda-env-cuda117-py"
  },
  "language_info": {
   "codemirror_mode": {
    "name": "ipython",
    "version": 3
   },
   "file_extension": ".py",
   "mimetype": "text/x-python",
   "name": "python",
   "nbconvert_exporter": "python",
   "pygments_lexer": "ipython3",
   "version": "3.10.13"
  }
 },
 "nbformat": 4,
 "nbformat_minor": 5
}

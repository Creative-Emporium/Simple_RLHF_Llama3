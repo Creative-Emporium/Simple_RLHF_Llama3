{
 "cells": [
  {
   "cell_type": "code",
   "execution_count": 1,
   "id": "01f23638",
   "metadata": {},
   "outputs": [
    {
     "name": "stderr",
     "output_type": "stream",
     "text": [
      "Special tokens have been added in the vocabulary, make sure the associated word embeddings are fine-tuned or trained.\n"
     ]
    },
    {
     "data": {
      "text/plain": [
       "(tensor([128000,   5269,    527, 128001]),\n",
       " tensor([1, 1, 1, 1]),\n",
       " '<|begin_of_text|>how are<|end_of_text|>')"
      ]
     },
     "execution_count": 1,
     "metadata": {},
     "output_type": "execute_result"
    }
   ],
   "source": [
    "import torch\n",
    "\n",
    "from util import TokenizerUtil\n",
    "\n",
    "tokenizer = TokenizerUtil()\n",
    "\n",
    "input_ids, attention_mask = tokenizer.encode('how are you', max_length=4)\n",
    "\n",
    "input_ids, attention_mask, tokenizer.decode(input_ids)"
   ]
  },
  {
   "cell_type": "code",
   "execution_count": 2,
   "id": "85e428b1",
   "metadata": {},
   "outputs": [
    {
     "data": {
      "application/vnd.jupyter.widget-view+json": {
       "model_id": "c95579545027476194ef5be44ab8438c",
       "version_major": 2,
       "version_minor": 0
      },
      "text/plain": [
       "Map:   0%|          | 0/15000 [00:00<?, ? examples/s]"
      ]
     },
     "metadata": {},
     "output_type": "display_data"
    },
    {
     "data": {
      "text/plain": [
       "(3750, dict_keys(['input_ids', 'attention_mask']))"
      ]
     },
     "execution_count": 2,
     "metadata": {},
     "output_type": "execute_result"
    }
   ],
   "source": [
    "from datasets import load_dataset\n",
    "\n",
    "dataset = load_dataset('json', data_files='dataset/train.json', split='train')\n",
    "\n",
    "#4,2,4切分,取第1部分\n",
    "dataset = dataset.select(range(30000, 45000))\n",
    "\n",
    "\n",
    "def f(data):\n",
    "    #区分两种生成结果\n",
    "    chosen = data['prompt'] + data['chosen'].swapcase()\n",
    "    rejected = data['prompt'] + data['chosen']\n",
    "\n",
    "    chosen_input_ids, chosen_attention_mask = tokenizer.encode(chosen)\n",
    "    rejected_input_ids, rejected_attention_mask = tokenizer.encode(rejected)\n",
    "\n",
    "    return {\n",
    "        'chosen_input_ids': chosen_input_ids,\n",
    "        'chosen_attention_mask': chosen_attention_mask,\n",
    "        'rejected_input_ids': rejected_input_ids,\n",
    "        'rejected_attention_mask': rejected_attention_mask,\n",
    "    }\n",
    "\n",
    "\n",
    "dataset = dataset.map(f)\n",
    "\n",
    "dataset.set_format('torch')\n",
    "\n",
    "\n",
    "def f(data):\n",
    "    chosen_input_ids = [i['chosen_input_ids'] for i in data]\n",
    "    chosen_attention_mask = [i['chosen_attention_mask'] for i in data]\n",
    "    rejected_input_ids = [i['rejected_input_ids'] for i in data]\n",
    "    rejected_attention_mask = [i['rejected_attention_mask'] for i in data]\n",
    "\n",
    "    input_ids = torch.stack(chosen_input_ids + rejected_input_ids, dim=0)\n",
    "    attention_mask = torch.stack(chosen_attention_mask +\n",
    "                                 rejected_attention_mask,\n",
    "                                 dim=0)\n",
    "\n",
    "    return {'input_ids': input_ids, 'attention_mask': attention_mask}\n",
    "\n",
    "\n",
    "loader = torch.utils.data.DataLoader(dataset,\n",
    "                                     collate_fn=f,\n",
    "                                     batch_size=4,\n",
    "                                     shuffle=True,\n",
    "                                     drop_last=True)\n",
    "\n",
    "len(loader), next(iter(loader)).keys()"
   ]
  },
  {
   "cell_type": "code",
   "execution_count": 3,
   "id": "dfa4c50a",
   "metadata": {
    "scrolled": true
   },
   "outputs": [],
   "source": [
    "%run 1.model.ipynb\n",
    "\n",
    "\n",
    "class CriticModel(torch.nn.Module):\n",
    "\n",
    "    def __init__(self):\n",
    "        super().__init__()\n",
    "\n",
    "        self.rwtransformer = LlamaModel()\n",
    "\n",
    "        self.v_head = torch.nn.Linear(1024, 1, bias=False)\n",
    "\n",
    "    def forward(self, input_ids, attention_mask):\n",
    "        value = self.rwtransformer(input_ids=input_ids,\n",
    "                                   attention_mask=attention_mask)\n",
    "\n",
    "        value = self.v_head(value).squeeze(-1)\n",
    "\n",
    "        loss_sum = 0.0\n",
    "        value_chosen_sum = 0.0\n",
    "        value_rejected_sum = 0.0\n",
    "        for input_ids_chosen, input_ids_rejected, value_chosen, value_rejected in zip(\n",
    "                input_ids[:4], input_ids[4:], value[:4], value[4:]):\n",
    "\n",
    "            #找出每条回答中的起止索引\n",
    "            end_chosen = input_ids_chosen.tolist().index(\n",
    "                tokenizer.eos_token_id) + 1\n",
    "            end_rejected = input_ids_rejected.tolist().index(\n",
    "                tokenizer.eos_token_id) + 1\n",
    "            end = max(end_chosen, end_rejected)\n",
    "\n",
    "            start = end - 1\n",
    "            if not (input_ids_chosen == input_ids_rejected).all():\n",
    "                start = (input_ids_chosen == input_ids_rejected\n",
    "                         ).tolist().index(False)\n",
    "\n",
    "            value_chosen = value_chosen[start:end]\n",
    "            value_rejected = value_rejected[start:end]\n",
    "\n",
    "            loss = value_chosen - value_rejected\n",
    "            loss = -torch.nn.functional.logsigmoid(loss).mean()\n",
    "\n",
    "            loss_sum += loss\n",
    "            value_chosen_sum += value_chosen.mean().item()\n",
    "            value_rejected_sum += value_rejected.mean().item()\n",
    "\n",
    "        return loss_sum / 4, value_chosen_sum, value_rejected_sum\n",
    "\n",
    "\n",
    "model_critic = CriticModel()"
   ]
  },
  {
   "cell_type": "code",
   "execution_count": 4,
   "id": "adb14bab",
   "metadata": {},
   "outputs": [
    {
     "name": "stderr",
     "output_type": "stream",
     "text": [
      "Detected kernel version 3.10.0, which is below the recommended minimum of 5.5.0; this can cause the process to hang. It is recommended to upgrade the kernel to the minimum version or higher.\n"
     ]
    }
   ],
   "source": [
    "from accelerate import Accelerator\n",
    "\n",
    "model_critic.train()\n",
    "\n",
    "optimizer = torch.optim.Adam(model_critic.parameters(), lr=5e-5)\n",
    "\n",
    "accelerator = Accelerator(mixed_precision='fp16')\n",
    "\n",
    "loader, model_critic, optimizer = accelerator.prepare(loader, model_critic,\n",
    "                                                      optimizer)"
   ]
  },
  {
   "cell_type": "code",
   "execution_count": 5,
   "id": "7838daa6",
   "metadata": {
    "scrolled": false
   },
   "outputs": [
    {
     "name": "stdout",
     "output_type": "stream",
     "text": [
      "99 3750 6.318092346191406e-05 38.8515625 -34.71875\n",
      "199 3750 1.728534698486328e-05 50.28125 -27.22265625\n",
      "299 3750 4.76837158203125e-07 51.7421875 -36.05859375\n",
      "399 3750 1.1920928955078125e-07 50.1484375 -39.0\n",
      "499 3750 2.384185791015625e-07 25.076171875 -53.015625\n",
      "599 3750 0.0 33.80859375 -53.6796875\n",
      "699 3750 0.0 35.09375 -54.8125\n",
      "799 3750 1.1920928955078125e-07 29.9296875 -52.6953125\n",
      "899 3750 5.960464477539063e-08 30.796875 -52.7578125\n",
      "999 3750 0.0 33.9609375 -54.8046875\n",
      "1099 3750 5.960464477539063e-08 33.59765625 -53.7421875\n",
      "1199 3750 0.0 33.9609375 -54.6484375\n",
      "1299 3750 0.0 32.10546875 -52.703125\n",
      "1399 3750 1.7881393432617188e-07 28.80859375 -49.5703125\n",
      "1499 3750 0.0 37.3125 -55.1796875\n",
      "1599 3750 0.0 36.734375 -54.515625\n",
      "1699 3750 0.0 37.6484375 -54.8984375\n",
      "1799 3750 0.0 36.3203125 -52.9609375\n",
      "1899 3750 0.0 35.421875 -53.6640625\n",
      "1999 3750 0.0 37.640625 -53.6640625\n",
      "2099 3750 0.0 37.7421875 -53.46875\n",
      "2199 3750 2.384185791015625e-07 33.01171875 -52.34375\n",
      "2299 3750 0.0 36.06640625 -52.53125\n",
      "2399 3750 0.0 33.69140625 -52.4921875\n",
      "2499 3750 0.0 32.671875 -50.875\n",
      "2599 3750 0.0 34.56640625 -49.3125\n",
      "2699 3750 0.0 36.3359375 -50.390625\n",
      "2799 3750 0.0 38.69921875 -53.453125\n",
      "2899 3750 0.0 40.65625 -54.59375\n",
      "2999 3750 0.0 42.0234375 -54.0859375\n",
      "3099 3750 0.0 34.8046875 -51.9140625\n",
      "3199 3750 0.0 37.8203125 -52.4921875\n",
      "3299 3750 0.0 40.296875 -53.984375\n",
      "3399 3750 0.0 40.390625 -52.28125\n",
      "3499 3750 0.0 39.5078125 -51.8515625\n",
      "3599 3750 0.0 39.1953125 -54.0546875\n",
      "3699 3750 0.0 40.8671875 -54.375\n"
     ]
    }
   ],
   "source": [
    "for i, data in enumerate(loader):\n",
    "    loss, value_chosen_sum, value_rejected_sum = model_critic(**data)\n",
    "    accelerator.backward(loss)\n",
    "    accelerator.clip_grad_norm_(model_critic.parameters(), 1.0)\n",
    "    optimizer.step()\n",
    "    optimizer.zero_grad()\n",
    "\n",
    "    if (i + 1) % 100 == 0:\n",
    "        print(i, len(loader), loss.item(), value_chosen_sum,\n",
    "              value_rejected_sum)\n",
    "\n",
    "torch.save(model_critic.to('cpu'), 'model/critic')"
   ]
  }
 ],
 "metadata": {
  "kernelspec": {
   "display_name": "Python [conda env:cuda117]",
   "language": "python",
   "name": "conda-env-cuda117-py"
  },
  "language_info": {
   "codemirror_mode": {
    "name": "ipython",
    "version": 3
   },
   "file_extension": ".py",
   "mimetype": "text/x-python",
   "name": "python",
   "nbconvert_exporter": "python",
   "pygments_lexer": "ipython3",
   "version": "3.10.13"
  }
 },
 "nbformat": 4,
 "nbformat_minor": 5
}

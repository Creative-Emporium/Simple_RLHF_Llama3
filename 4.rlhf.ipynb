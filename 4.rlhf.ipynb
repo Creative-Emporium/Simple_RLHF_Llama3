{
 "cells": [
  {
   "cell_type": "code",
   "execution_count": 1,
   "id": "11abe3e8",
   "metadata": {},
   "outputs": [
    {
     "name": "stderr",
     "output_type": "stream",
     "text": [
      "Special tokens have been added in the vocabulary, make sure the associated word embeddings are fine-tuned or trained.\n"
     ]
    },
    {
     "data": {
      "text/plain": [
       "(tensor([128002, 128002, 128000,   5269,    527,    499]),\n",
       " tensor([0, 0, 1, 1, 1, 1]),\n",
       " '<|reserved_special_token_0|><|reserved_special_token_0|><|begin_of_text|>how are you')"
      ]
     },
     "execution_count": 1,
     "metadata": {},
     "output_type": "execute_result"
    }
   ],
   "source": [
    "import torch\n",
    "\n",
    "prompt_lens = 128\n",
    "gen_lens = prompt_lens + 128\n",
    "\n",
    "from util import TokenizerUtil\n",
    "\n",
    "tokenizer = TokenizerUtil()\n",
    "\n",
    "input_ids, _ = tokenizer.encode('how are you', max_length=6)\n",
    "\n",
    "input_ids, attention_mask = tokenizer.pad_to_left(input_ids)\n",
    "\n",
    "input_ids, attention_mask, tokenizer.decode(input_ids)"
   ]
  },
  {
   "cell_type": "code",
   "execution_count": 2,
   "id": "835db30b",
   "metadata": {
    "scrolled": true
   },
   "outputs": [
    {
     "data": {
      "text/plain": [
       "(7144, dict_keys(['input_ids', 'attention_mask']))"
      ]
     },
     "execution_count": 2,
     "metadata": {},
     "output_type": "execute_result"
    }
   ],
   "source": [
    "from datasets import load_dataset\n",
    "from transformers import default_data_collator\n",
    "\n",
    "dataset = load_dataset('json', data_files='dataset/train.json', split='train')\n",
    "\n",
    "#2,4,4切分,取最后一部分\n",
    "dataset = dataset.select(range(45000, len(dataset)))\n",
    "\n",
    "\n",
    "def f(data):\n",
    "    input_ids, _ = tokenizer.encode(data['prompt'], max_length=prompt_lens)\n",
    "    input_ids, attention_mask = tokenizer.pad_to_left(input_ids)\n",
    "\n",
    "    return {'input_ids': input_ids, 'attention_mask': attention_mask}\n",
    "\n",
    "\n",
    "dataset = dataset.map(f, remove_columns=dataset.column_names)\n",
    "\n",
    "loader = torch.utils.data.DataLoader(dataset,\n",
    "                                     collate_fn=default_data_collator,\n",
    "                                     batch_size=4,\n",
    "                                     shuffle=True,\n",
    "                                     drop_last=True)\n",
    "\n",
    "len(loader), next(iter(loader)).keys()"
   ]
  },
  {
   "cell_type": "code",
   "execution_count": 3,
   "id": "781c336d",
   "metadata": {},
   "outputs": [],
   "source": [
    "%run 1.model.ipynb\n",
    "\n",
    "model_actor = torch.load('model/actor')\n",
    "model_actor.train()\n",
    "\n",
    "optimizer_actor = torch.optim.Adam(model_actor.parameters(), lr=2e-6)"
   ]
  },
  {
   "cell_type": "code",
   "execution_count": 4,
   "id": "bdd68dee",
   "metadata": {},
   "outputs": [],
   "source": [
    "class CriticModel(torch.nn.Module):\n",
    "\n",
    "    def __init__(self):\n",
    "        super().__init__()\n",
    "        self.rwtransformer = None\n",
    "        self.v_head = None\n",
    "\n",
    "    def get_value(self, input_ids, attention_mask):\n",
    "        value = self.rwtransformer(input_ids=input_ids,\n",
    "                                   attention_mask=attention_mask)\n",
    "        return self.v_head(value).squeeze(2)\n",
    "\n",
    "    def get_reward(self, input_ids, attention_mask):\n",
    "        value = self.get_value(input_ids, attention_mask)\n",
    "\n",
    "        reward = []\n",
    "        for i, v in zip(input_ids, value):\n",
    "            end = input_ids.shape[1] - 1\n",
    "            if tokenizer.eos_token_id in i:\n",
    "                end = i.tolist().index(tokenizer.eos_token_id)\n",
    "            reward.append(v[end])\n",
    "        reward = torch.stack(reward)\n",
    "\n",
    "        return reward\n",
    "\n",
    "\n",
    "model_critic = torch.load('model/critic')\n",
    "model_critic.train()\n",
    "\n",
    "optimizer_critic = torch.optim.Adam(model_critic.parameters(), lr=5e-5)"
   ]
  },
  {
   "cell_type": "code",
   "execution_count": 5,
   "id": "17b9d356",
   "metadata": {},
   "outputs": [
    {
     "name": "stderr",
     "output_type": "stream",
     "text": [
      "Detected kernel version 3.10.0, which is below the recommended minimum of 5.5.0; this can cause the process to hang. It is recommended to upgrade the kernel to the minimum version or higher.\n"
     ]
    }
   ],
   "source": [
    "from accelerate import Accelerator\n",
    "\n",
    "model_ref = torch.load('model/actor')\n",
    "model_reward = torch.load('model/critic')\n",
    "\n",
    "model_ref.eval()\n",
    "model_reward.eval()\n",
    "\n",
    "accelerator = Accelerator(gradient_accumulation_steps=8,\n",
    "                          mixed_precision='fp16')\n",
    "\n",
    "(loader, model_actor, optimizer_actor, model_critic, optimizer_critic,\n",
    " model_ref, model_reward) = accelerator.prepare(loader, model_actor,\n",
    "                                                optimizer_actor, model_critic,\n",
    "                                                optimizer_critic, model_ref,\n",
    "                                                model_reward)"
   ]
  },
  {
   "cell_type": "code",
   "execution_count": 6,
   "id": "4e94ae45",
   "metadata": {},
   "outputs": [
    {
     "name": "stdout",
     "output_type": "stream",
     "text": [
      "select min(YARDS) from TABLE_NAME_30 where AVG = 7 and LONG < 7<|end_of_text|>\n",
      "================\n",
      "select sum(RANK__TIM_) from TABLE_NAME_2 where RANK__M_ > 2.6 and RANK__M_ = 5 and RANK__NIGHT_ > 5<|end_of_text|>\n",
      "================\n",
      "SELECT final_venue FROM table_name_23 WHERE number_of_dances = 82<|end_of_text|>\n",
      "================\n",
      "SELECT home_captain FROM table_name_2 WHERE arena_away = \"vfl park\"<|end_of_text|>\n",
      "================\n"
     ]
    }
   ],
   "source": [
    "from util import get_generate as get_generate_util\n",
    "\n",
    "\n",
    "def get_generate(input_ids):\n",
    "    generate = get_generate_util(model_actor,\n",
    "                                 input_ids,\n",
    "                                 tokenizer.eos_token_id,\n",
    "                                 tokenizer.pad_token_id,\n",
    "                                 max_length=gen_lens)\n",
    "    lens = (generate[:, prompt_lens:] != tokenizer.pad_token_id).sum(1)\n",
    "    return generate[lens > 1]\n",
    "\n",
    "\n",
    "data = next(iter(loader))\n",
    "\n",
    "for i in get_generate(data['input_ids']):\n",
    "    print(tokenizer.decode(i[prompt_lens:]))\n",
    "    print('================')"
   ]
  },
  {
   "cell_type": "code",
   "execution_count": 7,
   "id": "8687059d",
   "metadata": {},
   "outputs": [
    {
     "data": {
      "text/plain": [
       "torch.Size([4, 123])"
      ]
     },
     "execution_count": 7,
     "metadata": {},
     "output_type": "execute_result"
    }
   ],
   "source": [
    "def get_prob(prob, index):\n",
    "    prob = prob.log_softmax(dim=2)\n",
    "    prob = prob.gather(dim=2, index=index.unsqueeze(2))\n",
    "    return prob.squeeze(2)\n",
    "\n",
    "\n",
    "get_prob(torch.randn(4, 123, 999), torch.randint(0, 999, (4, 123))).shape"
   ]
  },
  {
   "cell_type": "code",
   "execution_count": 8,
   "id": "4d7d1d4b",
   "metadata": {},
   "outputs": [
    {
     "data": {
      "text/plain": [
       "(torch.Size([4, 171]),\n",
       " torch.Size([4, 171]),\n",
       " torch.Size([4, 170]),\n",
       " torch.Size([4, 170]),\n",
       " torch.Size([4, 170]),\n",
       " torch.Size([4]))"
      ]
     },
     "execution_count": 8,
     "metadata": {},
     "output_type": "execute_result"
    }
   ],
   "source": [
    "last_generate = None\n",
    "cache_count = 0\n",
    "\n",
    "\n",
    "@torch.no_grad()\n",
    "def get_batch(input_ids, attention_mask):\n",
    "    #input_ids -> [b, prompt_lens]\n",
    "    #attention_mask -> [b, prompt_lens]\n",
    "    global last_generate\n",
    "    global cache_count\n",
    "\n",
    "    #根据问题生成回答\n",
    "    #[b, gen_lens]\n",
    "    generate = get_generate(input_ids)\n",
    "\n",
    "    #制作缓存,防止所有回答为空的情况\n",
    "    if len(generate):\n",
    "        last_generate = generate\n",
    "    else:\n",
    "        generate = last_generate\n",
    "        cache_count += 1\n",
    "\n",
    "    #[b, gen_lens]\n",
    "    generate_mask = (generate != tokenizer.pad_token_id).long()\n",
    "\n",
    "    #两个模型分别取回答被预测到的概率\n",
    "    #[b, gen_lens-1]\n",
    "    _, prob_old = model_actor(input_ids=generate, attention_mask=generate_mask)\n",
    "    prob_old = get_prob(prob_old[:, :-1], generate[:, 1:])\n",
    "\n",
    "    #取每个词的value\n",
    "    #[b, gen_lens-1]\n",
    "    value_old = model_critic.get_value(generate, generate_mask)[:, :-1]\n",
    "\n",
    "    #[b, gen_lens-1]\n",
    "    _, prob_ref = model_ref(input_ids=generate, attention_mask=generate_mask)\n",
    "    prob_ref = get_prob(prob_ref[:, :-1], generate[:, 1:])\n",
    "\n",
    "    #取回答的分数\n",
    "    #[b]\n",
    "    reward = model_reward.get_reward(generate, generate_mask)\n",
    "\n",
    "    return generate, generate_mask, prob_old, prob_ref, value_old, reward\n",
    "\n",
    "\n",
    "generate, generate_mask, prob_old, prob_ref, value_old, reward = get_batch(\n",
    "    **data)\n",
    "\n",
    "generate.shape, generate_mask.shape, prob_old.shape, prob_ref.shape, value_old.shape, reward.shape"
   ]
  },
  {
   "cell_type": "code",
   "execution_count": 9,
   "id": "fb227950",
   "metadata": {},
   "outputs": [
    {
     "data": {
      "text/plain": [
       "torch.Size([4, 170])"
      ]
     },
     "execution_count": 9,
     "metadata": {},
     "output_type": "execute_result"
    }
   ],
   "source": [
    "def get_reward_kl(end, prob_old, prob_ref, reward):\n",
    "    #prob_old -> [b, gen_lens-1]\n",
    "    #prob_ref -> [b, gen_lens-1]\n",
    "    #reward -> [b]\n",
    "\n",
    "    #两份预测概率求kl散度\n",
    "    #[b, gen_lens-1]\n",
    "    reward_kl = -0.1 * (prob_old - prob_ref)\n",
    "\n",
    "    #把原本的reward加在kl散度的最后一个字上\n",
    "    for i, e in enumerate(end):\n",
    "        if e >= reward_kl.shape[1]:\n",
    "            e = -1\n",
    "        reward_kl[i, e] += reward[i].clamp(-5, 5)\n",
    "\n",
    "    #[b, gen_lens-1]\n",
    "    return reward_kl\n",
    "\n",
    "\n",
    "end = generate_mask[:, prompt_lens:].sum(1) + prompt_lens - 1\n",
    "end = end.tolist()\n",
    "\n",
    "reward_kl = get_reward_kl(end, prob_old, prob_ref, reward)\n",
    "\n",
    "reward_kl.shape"
   ]
  },
  {
   "cell_type": "code",
   "execution_count": 10,
   "id": "cf23aae7",
   "metadata": {},
   "outputs": [
    {
     "data": {
      "text/plain": [
       "torch.Size([4, 43])"
      ]
     },
     "execution_count": 10,
     "metadata": {},
     "output_type": "execute_result"
    }
   ],
   "source": [
    "#解释见原版代码中的get_delta_note函数\n",
    "def get_delta(value_old, reward_kl):\n",
    "    #value_old -> [b, gen_lens-1]\n",
    "    #reward_kl -> [b, gen_lens-1]\n",
    "\n",
    "    #gen_lens-2 -> prompt_lens-1\n",
    "    delta = []\n",
    "    for i in reversed(range(prompt_lens - 1, value_old.shape[1])):\n",
    "        #[b]\n",
    "        value_next = 0.0\n",
    "        if i != value_old.shape[1] - 1:\n",
    "            value_next = value_old[:, i + 1]\n",
    "\n",
    "        #[b]\n",
    "        d = reward_kl[:, i] + value_next - value_old[:, i]\n",
    "        if len(delta):\n",
    "            d += 0.95 * delta[-1]\n",
    "        delta.append(d)\n",
    "\n",
    "    #[b, gen_lens-prompt_lens]\n",
    "    delta = torch.stack(delta[::-1], dim=1)\n",
    "\n",
    "    return delta\n",
    "\n",
    "\n",
    "delta = get_delta(value_old, reward_kl)\n",
    "\n",
    "delta.shape"
   ]
  },
  {
   "cell_type": "code",
   "execution_count": 11,
   "id": "9cf1bcf7",
   "metadata": {},
   "outputs": [
    {
     "data": {
      "text/plain": [
       "tensor(1.3177, device='cuda:0')"
      ]
     },
     "execution_count": 11,
     "metadata": {},
     "output_type": "execute_result"
    }
   ],
   "source": [
    "def get_loss_actor(prob_new, prob_old, delta, generate_mask):\n",
    "    prob_new = prob_new[:, prompt_lens - 1:]\n",
    "    prob_old = prob_old[:, prompt_lens - 1:]\n",
    "    generate_mask = generate_mask[:, prompt_lens:]\n",
    "\n",
    "    #prob_new -> [b, gen_lens-prompt_lens]\n",
    "    #prob_old -> [b, gen_lens-prompt_lens]\n",
    "    #delta -> [b, gen_lens-prompt_lens]\n",
    "    #generate_mask -> [b, gen_lens-prompt_lens]\n",
    "\n",
    "    #对数概率,求差就是求商,所以这里求的是新旧概率的变化率\n",
    "    #[b, gen_lens-prompt_lens]\n",
    "    ratio = ((prob_new - prob_old) * generate_mask).exp()\n",
    "\n",
    "    #delta是估计出来的去基线Q值,以变化率来缩放Q值\n",
    "    #最大化Q值,以此来寻找最优的actor\n",
    "    #裁剪,防止自举\n",
    "    #[b, gen_lens-prompt_lens]\n",
    "    loss1 = delta * ratio\n",
    "    loss2 = delta * ratio.clamp(0.8, 1.2)\n",
    "    loss = torch.min(loss1, loss2) * generate_mask\n",
    "    loss = loss.sum() / generate_mask.sum()\n",
    "    return -loss\n",
    "\n",
    "\n",
    "loss_actor = get_loss_actor(prob_old, prob_old, delta, generate_mask)\n",
    "\n",
    "loss_actor"
   ]
  },
  {
   "cell_type": "code",
   "execution_count": 12,
   "id": "c9a4db24",
   "metadata": {},
   "outputs": [
    {
     "data": {
      "text/plain": [
       "tensor(4.3144, device='cuda:0')"
      ]
     },
     "execution_count": 12,
     "metadata": {},
     "output_type": "execute_result"
    }
   ],
   "source": [
    "def get_loss_critic(value_new, value_old, delta, generate_mask):\n",
    "    value_new = value_new[:, prompt_lens - 1:]\n",
    "    value_old = value_old[:, prompt_lens - 1:]\n",
    "    generate_mask = generate_mask[:, prompt_lens:]\n",
    "\n",
    "    #value_new -> [b, gen_lens-prompt_lens]\n",
    "    #value_old -> [b, gen_lens-prompt_lens]\n",
    "    #delta -> [b, gen_lens-prompt_lens]\n",
    "    #generate_mask -> [b, gen_lens-prompt_lens]\n",
    "\n",
    "    #delta是估计出来的去基线Q值,加上value_old后还原为Q值\n",
    "    #value_new和Q值求mse loss即可,因为value都是对Q函数的估计\n",
    "    #裁剪,防止自举\n",
    "    #[b, gen_lens-prompt_lens]\n",
    "    loss1 = (value_new - delta - value_old)**2\n",
    "    value_new = value_new.clamp(value_old - 0.2, value_old + 0.2)\n",
    "    loss2 = (value_new - delta - value_old)**2\n",
    "\n",
    "    #求平均\n",
    "    loss = torch.max(loss1, loss2) * generate_mask\n",
    "    loss = loss.sum() / 2 / generate_mask.sum()\n",
    "\n",
    "    return loss\n",
    "\n",
    "\n",
    "loss_critic = get_loss_critic(value_old, value_old, delta, generate_mask)\n",
    "\n",
    "loss_critic"
   ]
  },
  {
   "cell_type": "code",
   "execution_count": 13,
   "id": "825b4816",
   "metadata": {},
   "outputs": [
    {
     "data": {
      "text/plain": [
       "(-0.7142879962921143, 9.288569450378418)"
      ]
     },
     "execution_count": 13,
     "metadata": {},
     "output_type": "execute_result"
    }
   ],
   "source": [
    "def train(generate, generate_mask, prob_old, prob_ref, value_old, reward):\n",
    "    #generate -> [b, gen_lens]\n",
    "    #generate_mask -> [b, gen_lens]\n",
    "    #prob_old -> [b, gen_lens-1]\n",
    "    #prob_ref -> [b, gen_lens-1]\n",
    "    #value_old -> [b, gen_lens-1]\n",
    "    #reward -> [b]\n",
    "\n",
    "    #求出每句话结束的索引\n",
    "    #[b]\n",
    "    end = generate_mask[:, prompt_lens:].sum(1) + prompt_lens - 1\n",
    "    end = end.tolist()\n",
    "\n",
    "    #结束以后的value归零\n",
    "    for i, e in enumerate(end):\n",
    "        value_old[i, e + 1:] = 0\n",
    "\n",
    "    with torch.no_grad():\n",
    "        #计算新旧概率的kl散度,再把reward加在最后一个字上\n",
    "        #[b, gen_lens-1]\n",
    "        reward_kl = get_reward_kl(end, prob_old, prob_ref, reward)\n",
    "\n",
    "        #估计去基线的Q值\n",
    "        #[b, gen_lens-prompt_lens]\n",
    "        delta = get_delta(value_old, reward_kl)\n",
    "\n",
    "    #重新计算回答被生成的概率\n",
    "    #[b, gen_lens-1]\n",
    "    _, prob_new = model_actor(input_ids=generate, attention_mask=generate_mask)\n",
    "    prob_new = get_prob(prob_new[:, :-1], generate[:, 1:])\n",
    "\n",
    "    #重新计算每个词的value\n",
    "    #[b, gen_lens-1]\n",
    "    value_new = model_critic.get_value(input_ids=generate,\n",
    "                                       attention_mask=generate_mask)[:, :-1]\n",
    "\n",
    "    with accelerator.accumulate(model_actor, model_critic):\n",
    "        #更新actor\n",
    "        loss_actor = get_loss_actor(prob_new, prob_old, delta, generate_mask)\n",
    "        accelerator.backward(loss_actor)\n",
    "        if accelerator.sync_gradients:\n",
    "            accelerator.clip_grad_norm_(model_actor.parameters(), 1.0)\n",
    "        optimizer_actor.step()\n",
    "        optimizer_actor.zero_grad()\n",
    "\n",
    "        #更新critic\n",
    "        loss_critic = get_loss_critic(value_new, value_old, delta,\n",
    "                                      generate_mask)\n",
    "        accelerator.backward(loss_critic)\n",
    "        if accelerator.sync_gradients:\n",
    "            accelerator.clip_grad_norm_(model_critic.parameters(), 1.0)\n",
    "        optimizer_critic.step()\n",
    "        optimizer_critic.zero_grad()\n",
    "\n",
    "    return loss_actor.item(), loss_critic.item()\n",
    "\n",
    "\n",
    "train(generate, generate_mask, prob_old, prob_ref, value_old, reward)"
   ]
  },
  {
   "cell_type": "code",
   "execution_count": 14,
   "id": "4bd3e547",
   "metadata": {
    "scrolled": true
   },
   "outputs": [
    {
     "name": "stdout",
     "output_type": "stream",
     "text": [
      "99 7144 0.2392578125 0.7209304571151733 5.492685317993164 0\n",
      "Human: context= CREATE TABLE table_28232443_1 (producer__s_ VARCHAR, song__s_ VARCHAR) question= how many producers are responsible for the song 'calling out to marlboro? Assistant:select count(PRODUCTION__PENGLISH_) from TABLE_28215743_1 where SONG__S_ = \"lUIS sANDRIA\"<|end_of_text|>\n",
      "199 7144 0.1526360660791397 0.6175141334533691 8.53221607208252 0\n",
      "Human: context= CREATE TABLE table_26041144_10 (innings INTEGER, average VARCHAR) question= How many innings are there when the average is 32.3? Assistant:select max(INNSY) from TABLE_26041144_10 where AVERAGE = \"32\"<|end_of_text|>\n",
      "299 7144 0.10185553878545761 0.02755236066877842 8.451120376586914 0\n",
      "Human: context= CREATE TABLE table_name_39 (blank_ends INTEGER, nation VARCHAR, ends_lost VARCHAR) question= What is the sum of Blank Ends for Denmark when less than 42 is the ends lost? Assistant:select sum(BYES) from TABLE_NAME_39 where NATION = \"NEW ZEAL\" and ENDS_LOST < 42<|end_of_text|>\n",
      "399 7144 -0.0352015383541584 0.007629712577909231 5.441339492797852 0\n",
      "Human: context= CREATE TABLE table_name_20 (runner_up VARCHAR, attendance VARCHAR, venue VARCHAR, result VARCHAR) question= Who was runner-up at Berlin when the result was 2-0 with 100,000 fans in attendance? Assistant:select RUNNER_UP from TABLE_NAME_20 where VENUE = \"BERLIN\" and RESULT = \"2-0\" and ATTENDANCE = \"2-0\"<|end_of_text|>\n",
      "499 7144 -0.005314533598721027 0.0054231067188084126 8.03270435333252 0\n",
      "Human: context= CREATE TABLE EMPLOYEE (EmployeeId VARCHAR); CREATE TABLE CUSTOMER (LastName VARCHAR, SupportRepId VARCHAR) question= Please show the employee last names that serves no more than 20 customers. Assistant:select t1.sTTER from CUSTOMERFORMANCE as t1 join iNVOICE as t2 on t1.gRADE = t2.CUST where t2 > 20<|end_of_text|>\n",
      "599 7144 -0.05673935264348984 0.004074753262102604 11.057628631591797 0\n",
      "Human: context= CREATE TABLE assignedto (scientist VARCHAR) question= How many different scientists are assigned to any project? Assistant:select count(distinct uid) from ASSISTS<|end_of_text|>\n",
      "699 7144 0.032541390508413315 0.003139497945085168 8.323321342468262 0\n",
      "Human: context= CREATE TABLE table_2820584_2 (partner VARCHAR, surface VARCHAR) question= Who was Betty's partner when the surface is hard? Assistant:select PARTNER from TABLE_2820584_2 where SURFACE = \"fEBRUCE\"<|end_of_text|>\n",
      "799 7144 0.010786320082843304 0.004872164689004421 8.396924018859863 0\n",
      "Human: context= CREATE TABLE table_name_72 (draws INTEGER, against VARCHAR, wins VARCHAR) question= What's the sum of draws for against larger than 1228 with fewer than 1 wins? Assistant:select sum(DRAWS) from TABLE_NAME_72 where AGAINST > 1228 and WINS < 1<|end_of_text|>\n",
      "899 7144 -0.11908330768346786 0.011940935626626015 10.342275619506836 0\n",
      "Human: context= CREATE TABLE table_name_37 (role VARCHAR, year VARCHAR) question= What role was played in 2007? Assistant:select ROLE from TABLE_NAME_37 where YEAR = 2007<|end_of_text|>\n",
      "999 7144 0.05833571031689644 0.003971429076045752 10.472670555114746 0\n",
      "Human: context= CREATE TABLE table_name_39 (country VARCHAR, player VARCHAR) question= Which country does Adam Scott play for? Assistant:select COUNTRY from TABLE_NAME_39 where PLAYER = \"BILLY\"<|end_of_text|>\n",
      "1099 7144 -0.040734414011240005 0.002298758365213871 9.725923538208008 0\n",
      "Human: context= CREATE TABLE table_name_38 (away_team VARCHAR, venue VARCHAR) question= What did the away team score at Moorabbin oval? Assistant:select AWAY_TEAM as SCORE from TABLE_NAME_38 where VENUE = \"CORIO OVAL\"<|end_of_text|>\n",
      "1199 7144 0.022329190745949745 0.0012344958959147334 10.148975372314453 0\n",
      "Human: context= CREATE TABLE table_name_49 (manufacturer VARCHAR, grid VARCHAR) question= Who was the manufacturer for the race on grid 12? Assistant:select MANUFACTURER from TABLE_NAME_49 where GRID = 12<|end_of_text|>\n",
      "1299 7144 -0.11940263956785202 0.009029101580381393 9.780643463134766 0\n",
      "Human: context= CREATE TABLE table_name_52 (opponent VARCHAR, week VARCHAR) question= Who was the opponent at the week 6 game? Assistant:select OPPONENT from TABLE_NAME_52 where WEEK = 6<|end_of_text|>\n",
      "1399 7144 0.05815454572439194 0.003763841697946191 8.72829818725586 0\n",
      "Human: context= CREATE TABLE table_11222744_2 (title VARCHAR, catalog_number VARCHAR) question= The Catalog number is 80809 what is the title? Assistant:select TITLE from TABLE_11222744_2 where CATALOG_NUMBER = 949<|end_of_text|>\n",
      "1499 7144 0.03250611200928688 0.002516468521207571 9.618928909301758 0\n",
      "Human: context= CREATE TABLE table_name_56 (western_title VARCHAR, genre VARCHAR) question= What is the western title for the puzzle genre? Assistant:select CHAMPION from TABLE_NAME_56 where GENRE = \"THE ANGRY\"<|end_of_text|>\n",
      "1599 7144 -0.10714832693338394 0.0074132694862782955 7.3785481452941895 0\n",
      "Human: context= CREATE TABLE table_24101118_1 (model__list_ VARCHAR, processor VARCHAR, brand_name VARCHAR) question= what is the model where the processor is yorkfield and the brand name is xeon? Assistant:select MODEL__LIST_ from TABLE_24126518_1 where PROCESSOR = \"hEM\" and BRAND_NAME = \"eL\"<|end_of_text|>\n",
      "1699 7144 0.28250670433044434 0.08627327531576157 8.649314880371094 0\n",
      "Human: context= CREATE TABLE table_name_48 (margin_of_victory VARCHAR, runner_s__up VARCHAR) question= What is the margin of victory in the race where Justin Rose was the runner-up? Assistant:select MARGIN_OF_VICTORY from TABLE_NAME_48 where RUNNER_S__UP = \"GREG NORMAN\"<|end_of_text|>\n",
      "1799 7144 -0.06562530249357224 0.0041945804841816425 9.293917655944824 0\n",
      "Human: context= CREATE TABLE table_name_78 (trophy VARCHAR, season VARCHAR) question= What is the Trophy with a Season with 2008–2009? Assistant:select TIER from TABLE_NAME_78 where SEASON = \"2008–2008\"<|end_of_text|>\n",
      "1899 7144 -0.05691399797797203 0.002680799225345254 8.03586483001709 0\n",
      "Human: context= CREATE TABLE table_23128286_1 (flaps INTEGER, points VARCHAR) question= How many flaps did he have when he had 109 points? Assistant:select max(POLES) from TABLE_23128286_1 where POINTS = 109<|end_of_text|>\n",
      "1999 7144 0.015340767800807953 0.0012129242531955242 8.5145845413208 0\n",
      "Human: context= CREATE TABLE table_10015132_21 (school_club_team VARCHAR, player VARCHAR) question= Which school did Herb Williams go to? Assistant:select SCHOOL_CLUB_TEAM from TABLE_10015132_21 where PLAYER = \"kEITH mATHIES\"<|end_of_text|>\n",
      "2099 7144 0.04242194816470146 0.0027848705649375916 8.163763046264648 0\n",
      "Human: context= CREATE TABLE table_20505342_1 (total_points INTEGER, drop_goals VARCHAR) question= What is the point total for the season with 2 drop goals? Assistant:select max(TOTAL_POINTS) from TABLE_20595642_1 where PLAYERS_GOALS = 2<|end_of_text|>\n",
      "2199 7144 0.0038211282808333635 0.0016689039766788483 7.642002105712891 0\n",
      "Human: context= CREATE TABLE table_name_10 (intellitrace VARCHAR, extensions VARCHAR, windows_phone_development VARCHAR) question= Which Intelli Trace has a No Extension and Windows Phone development of no? Assistant:select SCIENTIFIC_PIL from TABLE_NAME_10 where DOMARI = \"NO\" and FEATURES_HEPBURN = \"NO\"<|end_of_text|>\n",
      "2299 7144 -0.010146900080144405 0.001260754419490695 7.4481658935546875 0\n",
      "Human: context= CREATE TABLE table_name_22 (opponent VARCHAR, score VARCHAR) question= who is the opponent when the score is 3–6, 6–1, 7–5? Assistant:select OPPONENT from TABLE_NAME_22 where SCORE = \"3–6, 6–1, 7–5\"<|end_of_text|>\n",
      "2399 7144 -0.05490902066230774 0.0021696253679692745 10.012934684753418 0\n",
      "Human: context= CREATE TABLE table_name_98 (country VARCHAR, film VARCHAR) question= Which country made Le Portefeuille? Assistant:select COUNTRY from TABLE_NAME_98 where FILM = \"CRAIGADE DE BRON\"<|end_of_text|>\n",
      "2499 7144 -0.004187982063740492 0.0016414832789450884 10.267074584960938 0\n",
      "Human: context= CREATE TABLE table_name_51 (round VARCHAR, player VARCHAR) question= What round was matt brait? Assistant:select ROUND from TABLE_NAME_51 where PLAYER = \"BEN CRENSON\"<|end_of_text|>\n",
      "2599 7144 -0.0035319202579557896 0.0008398692589253187 8.841842651367188 0\n",
      "Human: context= CREATE TABLE table_1341640_43 (district VARCHAR, incumbent VARCHAR) question= Where was Al Gore elected Assistant:select DISTRICT from TABLE_1341640_43 where INCUMBENT = \"eD dOBBINSULA\"<|end_of_text|>\n"
     ]
    },
    {
     "name": "stdout",
     "output_type": "stream",
     "text": [
      "2699 7144 0.021513676270842552 0.01845403015613556 7.407927989959717 0\n",
      "Human: context= CREATE TABLE table_name_27 (result VARCHAR, week VARCHAR, date VARCHAR) question= What was the Result after the Week 4 on November 3, 1968? Assistant:select RESULT from TABLE_NAME_27 where WEEK > 4 and DATE = \"NOVEMBER 3, 1968\"<|end_of_text|>\n",
      "2799 7144 -0.0379653200507164 0.0025692156050354242 6.735535144805908 0\n",
      "Human: context= CREATE TABLE table_18161217_2 (launch_date VARCHAR, cospar_id VARCHAR) question= What was the launch date the satellite with cospar ID is 2008-033A? Assistant:select LAUNCH_DATE from TABLE_18173917_2 where VACED = \"qUARY 2008\"<|end_of_text|>\n",
      "2899 7144 0.08972104638814926 0.005396728403866291 7.484698295593262 0\n",
      "Human: context= CREATE TABLE table_1341884_20 (candidates VARCHAR, first_elected VARCHAR) question= Who were all the candidates when the first elected year was 1961? Assistant:select CANDIDATES from TABLE_1341884_20 where FIRST_ELECTED = 1961<|end_of_text|>\n",
      "2999 7144 0.46779629588127136 0.6014329791069031 8.9051513671875 0\n",
      "Human: context= CREATE TABLE table_name_4 (time VARCHAR, lane VARCHAR, nationality VARCHAR) question= What is the time in Romania that has a lane larger than 4? Assistant:select TIME from TABLE_NAME_4 where LANE > 4 and NATIONALITY = \"SPAIN\"<|end_of_text|>\n",
      "3099 7144 0.15957365930080414 0.08426520973443985 10.477431297302246 0\n",
      "Human: context= CREATE TABLE performance (Date VARCHAR, LOCATION VARCHAR) question= What are the dates and locations of performances? Assistant:select dATE, oPENSHIP from PERFORMANCE<|end_of_text|>\n",
      "3199 7144 -0.10641010850667953 0.007091939449310303 8.056227684020996 0\n",
      "Human: context= CREATE TABLE table_16768245_2 (namesake VARCHAR, longitude VARCHAR) question= What is the namesake of the feature found at 189.5w longitude?  Assistant:select NAME as ORIGIN from TABLE_16768245_2 where LONGITUDE = \"189.5W\"<|end_of_text|>\n",
      "3299 7144 0.0002388433349551633 0.005201758351176977 7.053282260894775 0\n",
      "Human: context= CREATE TABLE table_name_42 (engine VARCHAR, entrant VARCHAR, year VARCHAR, points VARCHAR) question= What was the engine of the Hoover Motor Express after 1955 with greater than 0 points? Assistant:select ENGINE from TABLE_NAME_42 where YEAR > 1955 and POINTS > 0 and ENTRANT = \"NAULTI M\"<|end_of_text|>\n",
      "3399 7144 -0.06822969764471054 0.0034005397465080023 8.346122741699219 0\n",
      "Human: context= CREATE TABLE table_name_70 (class VARCHAR, type VARCHAR, quantity VARCHAR) question= Which class has less than 3 in quantity with  a type of 4-6-0? Assistant:select CLASS from TABLE_NAME_70 where TYPE < 3 and QUANTITY = \"3-6-0\"<|end_of_text|>\n",
      "3499 7144 -0.05307215452194214 0.002850965363904834 8.938806533813477 0\n",
      "Human: context= CREATE TABLE vocals (songid VARCHAR); CREATE TABLE songs (songid VARCHAR) question= How many songs have a lead vocal? Assistant:select count(distinct INSTRUMENT) from VOCALS as t1 join SONGS as t2 on t1.songid = t2.ID where t2.DIST = \"cANASS\"<|end_of_text|>\n",
      "3599 7144 -0.04383953660726547 0.001631930936127901 7.6580915451049805 0\n",
      "Human: context= CREATE TABLE table_name_83 (played INTEGER, city VARCHAR, average_attendance VARCHAR) question= What is the average played value in Belgrade with attendance greater than 26,222? Assistant:select avg(PLAYED) from TABLE_NAME_83 where CITY = \"MIRHOLINA\" and AVERAGE > 26 offset 222<|end_of_text|>\n",
      "3699 7144 0.0063058058731257915 0.0011143285082653165 10.544322967529297 0\n",
      "Human: context= CREATE TABLE table_name_21 (country VARCHAR, city VARCHAR) question= What country is Yerevan located in? Assistant:select COUNTRY from TABLE_NAME_21 where CITY = \"HAMILTON\"<|end_of_text|>\n",
      "3799 7144 0.00792947132140398 0.0002991882211063057 8.365407943725586 0\n",
      "Human: context= CREATE TABLE table_name_47 (club VARCHAR, goals_against VARCHAR, goal_difference VARCHAR) question= Which club had fewer than 29 goals against and a difference smaller than 26? Assistant:select CLUB from TABLE_NAME_47 where GOALS_AGAINST < 29 and GOALS_AGAINST < 26<|end_of_text|>\n",
      "3899 7144 0.09809879213571548 0.005812041461467743 7.174276351928711 0\n",
      "Human: context= CREATE TABLE table_228149_1 (bruce_coulter_award VARCHAR, game VARCHAR) question= Nam the total number for bruce coulter award for 9th game Assistant:select count(CORES_CARRI_CARETAIN) from TABLE_22839669_1 where GAME = 9<|end_of_text|>\n",
      "3999 7144 0.09970331937074661 0.0065893265418708324 9.068188667297363 0\n",
      "Human: context= CREATE TABLE table_name_4 (result VARCHAR, date VARCHAR) question= What was the result on july 16, 1992? Assistant:select RESULT from TABLE_NAME_4 where DATE = \"JULY 16, 1992\"<|end_of_text|>\n",
      "4099 7144 0.0571916326880455 0.003891225904226303 9.343364715576172 0\n",
      "Human: context= CREATE TABLE table_name_47 (score VARCHAR, tournament VARCHAR) question= What is the final score of the tournament played in Clearwater, Florida? Assistant:select SCORE from TABLE_NAME_47 where TOURNAMENT = \"PARIS, KOREANNE OPEN\"<|end_of_text|>\n",
      "4199 7144 -0.005488605238497257 0.0005326933460310102 8.346171379089355 0\n",
      "Human: context= CREATE TABLE entrepreneur (Investor VARCHAR) question= What is the investor that has invested in the most number of entrepreneurs? Assistant:select iNDUSTRY from ENTREPRENEUR group by iNDUSTRY order by count(*) desc limit 1<|end_of_text|>\n",
      "4299 7144 -0.012354543432593346 0.0007740905857644975 9.414610862731934 0\n",
      "Human: context= CREATE TABLE table_1341884_19 (district VARCHAR, incumbent VARCHAR) question= What district is incumbent frank chelf from? Assistant:select DISTRICT from TABLE_1341884_19 where INCUMBENT = \"eD dOBBIE\"<|end_of_text|>\n",
      "4399 7144 0.04237513989210129 0.006969602778553963 7.687651634216309 0\n",
      "Human: context= CREATE TABLE table_20745444_1 (opponents INTEGER, record VARCHAR) question= How many losses were there when the record was 4-0? Assistant:select max(OPPONENTS) from TABLE_20745444_1 where RECORD = \"4-0\"<|end_of_text|>\n",
      "4499 7144 -0.12557090818881989 0.018182897940278053 6.059375762939453 0\n",
      "Human: context= CREATE TABLE table_11365528_2 (location VARCHAR, website VARCHAR) question= Which location belongs to the website, http://www.mudgeerabasoccer.com/? Assistant:select LOCATION from TABLE_11354128_2 where WEBSITE = \"eASTLE bOBBYLVAN, fALLAO\"<|end_of_text|>\n",
      "4599 7144 0.35546624660491943 0.23418106138706207 2.3006279468536377 0\n",
      "Human: context= CREATE TABLE table_name_80 (l2_cache VARCHAR, multi_1 VARCHAR, release_date VARCHAR, fpu_width VARCHAR) question= What is the L2 cache with a release date on September 10, 2009, a 128-bit FPU width, and a 12x multi 1? Assistant:select L2_CACHE from TABLE_NAME_80 where RELEASE_DATE = \"10 FEBRUARY 2009\" and PAGES = \"10 SEPTEMBER 2009\" and MULTIPLIER_2_RELEASE = \"A\"<|end_of_text|>\n",
      "4699 7144 -0.015160745941102505 0.0009360451949760318 9.697604179382324 0\n",
      "Human: context= CREATE TABLE Flight (flno VARCHAR, distance VARCHAR) question= Show the flight number of flights with three lowest distances. Assistant:select FLNO from fACid where DISTANCE = 'fOOTBALL'<|end_of_text|>\n",
      "4799 7144 -0.08232506364583969 0.007745066657662392 9.57483959197998 0\n",
      "Human: context= CREATE TABLE table_18811741_15 (driver VARCHAR, starts VARCHAR) question= Which driver starts 3? Assistant:select DRIVER from TABLE_18862441_15 where STARTS = 3<|end_of_text|>\n",
      "4899 7144 -0.03292164206504822 0.002130164299160242 9.998126029968262 0\n",
      "Human: context= CREATE TABLE table_name_67 (location VARCHAR, record VARCHAR) question= What is the location for the 23-17 record? Assistant:select LOCATION from TABLE_NAME_67 where RECORD = \"23-17\"<|end_of_text|>\n",
      "4999 7144 0.0008566720644012094 0.0005064634024165571 8.128776550292969 0\n",
      "Human: context= CREATE TABLE table_15945862_1 (july VARCHAR, march VARCHAR) question= March 0.41 in July?  Assistant:select JULY from TABLE_15945862_1 where MARCH = \"march 0.41\"<|end_of_text|>\n",
      "5099 7144 0.09669084846973419 0.005996018648147583 9.853352546691895 0\n",
      "Human: context= CREATE TABLE table_name_40 (total VARCHAR, player VARCHAR) question= What was Mark O'Meara's total? Assistant:select TOTAL from TABLE_NAME_40 where PLAYER = \"JIM GARCIA\"<|end_of_text|>\n",
      "5199 7144 0.06097853183746338 0.002564882393926382 10.126209259033203 0\n",
      "Human: context= CREATE TABLE table_name_12 (decision VARCHAR, home VARCHAR) question= What was the decision in Minnesota? Assistant:select DECISION from TABLE_NAME_12 where HOME = \"NY RANGERS\"<|end_of_text|>\n"
     ]
    },
    {
     "name": "stdout",
     "output_type": "stream",
     "text": [
      "5299 7144 -0.011420010589063168 0.0006772717460989952 8.796844482421875 0\n",
      "Human: context= CREATE TABLE table_name_67 (founded INTEGER, institution VARCHAR) question= What is the largest Founded with an Institution of cloud county community college? Assistant:select max(FOUNDED) from TABLE_NAME_67 where INSTITUTION = \"SOUTHERN MISSISSIPPI STATE\"<|end_of_text|>\n",
      "5399 7144 0.03705424815416336 0.0014625918120145798 9.323482513427734 0\n",
      "Human: context= CREATE TABLE table_name_68 (record VARCHAR, high_rebounds VARCHAR) question= What is Record, when High Rebounds is \"Tyson Chandler (6)\"? Assistant:select RECORD from TABLE_NAME_68 where HIGH_REBOUNDS = \"LUIS SCOLA (6)\"<|end_of_text|>\n",
      "5499 7144 0.040390919893980026 0.0015183702344074845 10.23711109161377 0\n",
      "Human: context= CREATE TABLE table_name_99 (goal_difference INTEGER, played INTEGER) question= How many goal differences have Played larger than 44? Assistant:select sum(GOAL_DIFFERENCE) from TABLE_NAME_99 where PLAYED > 44<|end_of_text|>\n",
      "5599 7144 0.0011069378815591335 0.00141546328086406 9.628469467163086 0\n",
      "Human: context= CREATE TABLE table_name_1 (origin VARCHAR, abbreviation VARCHAR) question= What's the origin for the country abbreviated atf? Assistant:select ORIGIN from TABLE_NAME_1 where ABBRE = \"PANISHOPHER\"<|end_of_text|>\n",
      "5699 7144 0.029587313532829285 0.0032975540962070227 5.242360591888428 0\n",
      "Human: context= CREATE TABLE table_name_47 (oppose VARCHAR, unsure VARCHAR, poll_source VARCHAR) question= What percentage of people were opposed to the candidate based on the WNBC/Marist poll that showed 8% of people were unsure? Assistant:select CANDIDENCE from TABLE_NAME_47 where UNDECIDENCE = \"CARGO INDIAN ANNU8058\" and POLL_SOURCE = \"8%\"<|end_of_text|>\n",
      "5799 7144 0.3433320224285126 0.20627924799919128 6.114595413208008 0\n",
      "Human: context= CREATE TABLE table_10753917_1 (driver VARCHAR, team VARCHAR, margin_of_defeat VARCHAR) question= How many drivers on the williams team had a margin of defeat of 2? Assistant:select count(TRACKLES) from TABLE_10753917_1 where TEAM = \"wILLIAMS\" and TROOPS_PERFORMER = \"2\"<|end_of_text|>\n",
      "5899 7144 -0.04953969269990921 0.0040411869995296 5.98466682434082 0\n",
      "Human: context= CREATE TABLE table_16162581_1 (simplified_characters VARCHAR, wade_giles VARCHAR) question= Name the simplified characters for wade giles is ch'ing-yüan … i-ma Assistant:select SANSKRITLES from TABLE_16162581_1 where WORSTERS = \"wARREN lIYAH\"<|end_of_text|>\n",
      "5999 7144 -0.06510206311941147 0.003942497074604034 10.10858154296875 0\n",
      "Human: context= CREATE TABLE table_name_93 (record VARCHAR, visitor VARCHAR) question= What is the record when Tampa Bay is the visitor? Assistant:select RECORD from TABLE_NAME_93 where VISITOR = \"TAMPA\"<|end_of_text|>\n",
      "6099 7144 -0.019358322024345398 0.0005667060031555593 9.90349006652832 0\n",
      "Human: context= CREATE TABLE table_name_16 (away_team VARCHAR, venue VARCHAR) question= Which away team played at western oval? Assistant:select AWAY_TEAM from TABLE_NAME_16 where VENUE = \"CORIO OVAL\"<|end_of_text|>\n",
      "6199 7144 0.10521069914102554 0.019565880298614502 6.789666652679443 0\n",
      "Human: context= CREATE TABLE table_16494599_10 (years_for_grizzlies VARCHAR, school_club_team VARCHAR) question= During what years did athletes who attended school in Minnesota play for the Grizzlies? Assistant:select YEARS_FOR_JAZZLIES from TABLE_16494599_10 where SCHOOL_CLUB_TEAM = \"dUKE\"<|end_of_text|>\n",
      "6299 7144 -0.08657224476337433 0.005680783651769161 10.323356628417969 0\n",
      "Human: context= CREATE TABLE table_name_34 (player VARCHAR, total INTEGER) question= What player had a total less than 277? Assistant:select PLAYER from TABLE_NAME_34 where TOTAL < 277<|end_of_text|>\n",
      "6399 7144 -0.060490965843200684 0.012078868225216866 7.307602882385254 0\n",
      "Human: context= CREATE TABLE table_name_81 (score VARCHAR, visitor VARCHAR, leading_scorer VARCHAR) question= What is the Score with a Visitor of bucks, and a Leading scorer with maurice williams (25)? Assistant:select SCORE from TABLE_NAME_81 where VISITOR = \"PACERS\" and LEADING_SCORER = \"JADELPHIA\"<|end_of_text|>\n",
      "6499 7144 -0.19692212343215942 0.024594465270638466 8.858985900878906 0\n",
      "Human: context= CREATE TABLE table_name_99 (nature_of_incident VARCHAR, location VARCHAR) question= What was the incident in imam sahib area, kunduz province? Assistant:select NATURE_OF_INCIDENT from TABLE_NAME_99 where LOCATION = \"BAYMANY\"<|end_of_text|>\n",
      "6599 7144 -0.08827904611825943 0.006236326415091753 8.220434188842773 0\n",
      "Human: context= CREATE TABLE table_name_65 (date VARCHAR, team VARCHAR, venue VARCHAR) question= What was the date of the home game against Accrington? Assistant:select DATE from TABLE_NAME_65 where TEAM = \"MINNESOTA TWILDC\" and VENUE = \"PEN'S PARK\"<|end_of_text|>\n",
      "6699 7144 0.029126301407814026 0.0017178993439301848 8.301560401916504 0\n",
      "Human: context= CREATE TABLE table_name_35 (Id VARCHAR) question= What was the 2008 value when 2012 was Grand Slam Tournaments? Assistant:select 2008 from TABLE_NAME_35 where 2012 = \"GRAND SLAM TOURNAMENTS\"<|end_of_text|>\n",
      "6799 7144 0.053405798971652985 0.002734229899942875 10.183424949645996 0\n",
      "Human: context= CREATE TABLE table_name_43 (date VARCHAR, record VARCHAR) question= Which Date has a Record of 19–16–8? Assistant:select DATE from TABLE_NAME_43 where RECORD = \"19–16–8\"<|end_of_text|>\n",
      "6899 7144 0.02775612846016884 0.0011006187414750457 9.17972183227539 0\n",
      "Human: context= CREATE TABLE table_name_63 (time VARCHAR, lane VARCHAR, nationality VARCHAR) question= What time has a lane less than 5, with Poland as the nationality? Assistant:select TIME from TABLE_NAME_63 where LANE < 5 and NATIONALITY = \"BEL\"<|end_of_text|>\n",
      "6999 7144 -0.011484167538583279 0.0006734182243235409 10.401918411254883 0\n",
      "Human: context= CREATE TABLE table_name_4 (developer_s_ VARCHAR, game VARCHAR) question= Who was the developer of Resident Evil 4? Assistant:select DEVELOPER_S_ from TABLE_NAME_4 where GAME = 4<|end_of_text|>\n",
      "7099 7144 -0.008642573840916157 0.0004775249108206481 9.163814544677734 0\n",
      "Human: context= CREATE TABLE table_name_96 (Id VARCHAR) question= Which 2002 has a 2009 of 2r? Assistant:select 2009 from TABLE_NAME_96 where 2009 = \"2R\"<|end_of_text|>\n"
     ]
    }
   ],
   "source": [
    "for i, data in enumerate(loader):\n",
    "    #生成数据\n",
    "    (generate, generate_mask, prob_old, prob_ref, value_old,\n",
    "     reward) = get_batch(**data)\n",
    "\n",
    "    #训练\n",
    "    loss_actor, loss_critic = train(generate, generate_mask, prob_old,\n",
    "                                    prob_ref, value_old, reward)\n",
    "\n",
    "    if (i + 1) % 100 == 0:\n",
    "        print(i, len(loader), loss_actor, loss_critic, reward[0].item(),\n",
    "              cache_count)\n",
    "\n",
    "        #print(tokenizer.decode(generate[0, prompt_lens:]))\n",
    "        start = generate[0].tolist().index(tokenizer.bos_token_id) + 1\n",
    "        print(tokenizer.decode(generate[0, start:]))\n",
    "\n",
    "torch.save(model_actor.to('cpu'), 'model/rlhf')"
   ]
  }
 ],
 "metadata": {
  "kernelspec": {
   "display_name": "Python [conda env:cuda117]",
   "language": "python",
   "name": "conda-env-cuda117-py"
  },
  "language_info": {
   "codemirror_mode": {
    "name": "ipython",
    "version": 3
   },
   "file_extension": ".py",
   "mimetype": "text/x-python",
   "name": "python",
   "nbconvert_exporter": "python",
   "pygments_lexer": "ipython3",
   "version": "3.10.13"
  }
 },
 "nbformat": 4,
 "nbformat_minor": 5
}
